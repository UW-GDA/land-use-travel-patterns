{
 "cells": [
  {
   "cell_type": "markdown",
   "id": "b13c48d6",
   "metadata": {},
   "source": [
    "# 1. Background"
   ]
  },
  {
   "cell_type": "code",
   "execution_count": null,
   "id": "2da77f7e",
   "metadata": {},
   "outputs": [],
   "source": []
  },
  {
   "cell_type": "markdown",
   "id": "41092b32",
   "metadata": {},
   "source": [
    "# 2. Data"
   ]
  },
  {
   "cell_type": "code",
   "execution_count": null,
   "id": "c3af07ef",
   "metadata": {},
   "outputs": [],
   "source": []
  },
  {
   "cell_type": "markdown",
   "id": "6f04bbbb",
   "metadata": {},
   "source": [
    "# 3. Analysis & Discussion"
   ]
  },
  {
   "cell_type": "markdown",
   "id": "5730a1f2",
   "metadata": {},
   "source": [
    "## 3.1 Heatmap"
   ]
  },
  {
   "cell_type": "code",
   "execution_count": null,
   "id": "fa12dcc7",
   "metadata": {},
   "outputs": [],
   "source": []
  },
  {
   "cell_type": "markdown",
   "id": "0e77bf34",
   "metadata": {},
   "source": [
    "# 3.2 OLS"
   ]
  },
  {
   "cell_type": "code",
   "execution_count": null,
   "id": "ca03d69f",
   "metadata": {},
   "outputs": [],
   "source": []
  },
  {
   "cell_type": "markdown",
   "id": "ce32b935",
   "metadata": {},
   "source": [
    "# 3.3 Interactive Graph "
   ]
  },
  {
   "cell_type": "code",
   "execution_count": null,
   "id": "fca29d6b",
   "metadata": {},
   "outputs": [],
   "source": []
  },
  {
   "cell_type": "markdown",
   "id": "906927a9",
   "metadata": {},
   "source": [
    "# 4. Conclusion"
   ]
  },
  {
   "cell_type": "code",
   "execution_count": null,
   "id": "a5880f44",
   "metadata": {},
   "outputs": [],
   "source": []
  }
 ],
 "metadata": {
  "kernelspec": {
   "display_name": "Python 3 (ipykernel)",
   "language": "python",
   "name": "python3"
  },
  "language_info": {
   "codemirror_mode": {
    "name": "ipython",
    "version": 3
   },
   "file_extension": ".py",
   "mimetype": "text/x-python",
   "name": "python",
   "nbconvert_exporter": "python",
   "pygments_lexer": "ipython3",
   "version": "3.9.18"
  }
 },
 "nbformat": 4,
 "nbformat_minor": 5
}
