{
 "cells": [
  {
   "cell_type": "markdown",
   "id": "380933de-4a27-4ce2-9beb-61446f1a49b0",
   "metadata": {},
   "source": [
    "# OD Flow Analysis\n",
    "\n",
    "This notebook will use the [PSRC HTS](https://www.psrc.org/our-work/household-travel-survey-program) to create an OD matrix for the census tract level.\n",
    "\n",
    "Flows will be visualized.\n",
    "\n",
    "Trip-level data is used ([download here](https://household-travel-survey-psregcncl.hub.arcgis.com/datasets/22d91ae217be41f58ebac0844ac5d60d_0/explore))"
   ]
  },
  {
   "cell_type": "code",
   "execution_count": 43,
   "id": "8c0d2b37-4088-4d5c-bb69-a694e9046b50",
   "metadata": {},
   "outputs": [],
   "source": [
    "# libraries\n",
    "import numpy as np\n",
    "import pandas as pd\n",
    "import censusdata"
   ]
  },
  {
   "cell_type": "code",
   "execution_count": 11,
   "id": "4f6d9a87-6fb4-4025-b295-9864c3c62aa2",
   "metadata": {},
   "outputs": [
    {
     "name": "stderr",
     "output_type": "stream",
     "text": [
      "/tmp/ipykernel_546/3978077359.py:2: DtypeWarning: Columns (5,8,25,31,32,33,34,35,36,37,38,39,40,41,42,43,44,45,46,47,52,68,69,73,75,76,86,87,88,89,90,91,92,93,94,95,96,100,101,102,103,104,105,106,107,108,109,110,111,112,113,114,115,130,131,132,133,134,135,136,137,138,139,140,142,154) have mixed types. Specify dtype option on import or set low_memory=False.\n",
      "  trips_df = pd.read_csv(\"../land-use-travel-patterns/data/Household_Travel_Survey_Trips.csv\")\n"
     ]
    }
   ],
   "source": [
    "# read in data\n",
    "trips_df = pd.read_csv(\"../land-use-travel-patterns/data/Household_Travel_Survey_Trips.csv\")"
   ]
  },
  {
   "cell_type": "markdown",
   "id": "095bce85-91e4-4aff-b573-a3c0a5ab5249",
   "metadata": {},
   "source": [
    "## Determine census tracts in PSRC extent (King, Kitsap, Pierce, Snohomish)"
   ]
  },
  {
   "cell_type": "code",
   "execution_count": 41,
   "id": "2ab34790-dd6f-46f7-8430-ffe9a0fce8a1",
   "metadata": {},
   "outputs": [],
   "source": [
    "# borrowing code from labs...thanks eric :D\n",
    "\n",
    "def get_census_data(tables, state, county, year=2019):\n",
    "\n",
    "    # Download the data\n",
    "    data = censusdata.download('acs5', year,  # Use 2019 ACS 5-year estimates\n",
    "                               censusdata.censusgeo([('state', state), ('county', county), ('tract', '*')]),\n",
    "                               list(tables.keys()))\n",
    "\n",
    "    # Rename the column\n",
    "    data.rename(columns=tables, inplace=True)\n",
    "\n",
    "    # Extract information from the first column\n",
    "    data['Name'] = data.index.to_series().apply(lambda x: x.name)\n",
    "    data['SummaryLevel'] = data.index.to_series().apply(lambda x: x.sumlevel())\n",
    "    data['State'] = data.index.to_series().apply(lambda x: x.geo[0][1])\n",
    "    data['County'] = data.index.to_series().apply(lambda x: x.geo[1][1])\n",
    "    data['Tract'] = data.index.to_series().apply(lambda x: x.geo[2][1])\n",
    "    data.reset_index(drop=True, inplace=True)\n",
    "    data = data[['Tract','Name']+list(tables.values())].set_index('Tract')\n",
    "    return data\n",
    "\n",
    "def get_census_tract_geom(state_fips, county_fips):\n",
    "\n",
    "    # find state and county fips here: https://www.census.gov/geographies/reference-files/2017/demo/popest/2017-fips.html\n",
    "    \n",
    "    # Download the census tract shapefiles\n",
    "    tracts = gpd.read_file(f'https://www2.census.gov/geo/tiger/TIGER2019/TRACT/tl_2019_{state_fips}_tract.zip')\n",
    "\n",
    "    # set index as tract\n",
    "    tracts = tracts.rename(columns={'TRACTCE':'Tract'}).set_index('Tract')\n",
    "\n",
    "    # Filter to only King County\n",
    "    tracts = tracts[tracts['COUNTYFP'] == county_fips]\n",
    "    tracts = tracts[['geometry']]\n",
    "\n",
    "    return tracts"
   ]
  },
  {
   "cell_type": "markdown",
   "id": "a4199103-01ac-4f18-9112-ff6c3a1b84f8",
   "metadata": {},
   "source": [
    "## Create OD Matrix\n",
    "\n",
    "- consider using 1 year of data, then applying weights?"
   ]
  },
  {
   "cell_type": "code",
   "execution_count": 16,
   "id": "7ef611e3-6839-4e55-8268-70f828080840",
   "metadata": {},
   "outputs": [],
   "source": [
    "# relevant columns\n",
    "trips_df_tracts = trips_df[[\"trip_id\", \"o_tract10\", \"d_tract10\"]]"
   ]
  },
  {
   "cell_type": "code",
   "execution_count": 37,
   "id": "844f9e7f-0746-46d6-be4f-f91d7d89922e",
   "metadata": {},
   "outputs": [],
   "source": [
    "# groupby for origin trips, destination trips\n",
    "origin_counts = trips_df_tracts.groupby(\"o_tract10\").count()[\"trip_id\"].reset_index().rename(columns={'trip_id':'o_count', 'o_tract10':'tractid'})\n",
    "dest_counts = trips_df_tracts.groupby(\"d_tract10\").count()[\"trip_id\"].reset_index().rename(columns={'trip_id':'d_count', 'd_tract10':'tractid'})"
   ]
  },
  {
   "cell_type": "code",
   "execution_count": 39,
   "id": "23934cb0-8c90-4b52-8271-aa5706323580",
   "metadata": {},
   "outputs": [],
   "source": [
    "# join on tractid. we want to preserve all tracts possible -- ok if OD matrix has 0 flows --> use outer join\n",
    "od_counts = origin_counts.merge(dest_counts, how='outer', on='tractid')"
   ]
  },
  {
   "cell_type": "code",
   "execution_count": 40,
   "id": "f1461476-09cf-479b-8a05-5e46d5e793ad",
   "metadata": {},
   "outputs": [
    {
     "data": {
      "text/html": [
       "<div>\n",
       "<style scoped>\n",
       "    .dataframe tbody tr th:only-of-type {\n",
       "        vertical-align: middle;\n",
       "    }\n",
       "\n",
       "    .dataframe tbody tr th {\n",
       "        vertical-align: top;\n",
       "    }\n",
       "\n",
       "    .dataframe thead th {\n",
       "        text-align: right;\n",
       "    }\n",
       "</style>\n",
       "<table border=\"1\" class=\"dataframe\">\n",
       "  <thead>\n",
       "    <tr style=\"text-align: right;\">\n",
       "      <th></th>\n",
       "      <th>tractid</th>\n",
       "      <th>o_count</th>\n",
       "      <th>d_count</th>\n",
       "    </tr>\n",
       "  </thead>\n",
       "  <tbody>\n",
       "    <tr>\n",
       "      <th>0</th>\n",
       "      <td>5.303300e+10</td>\n",
       "      <td>359</td>\n",
       "      <td>362</td>\n",
       "    </tr>\n",
       "    <tr>\n",
       "      <th>1</th>\n",
       "      <td>5.303300e+10</td>\n",
       "      <td>166</td>\n",
       "      <td>164</td>\n",
       "    </tr>\n",
       "    <tr>\n",
       "      <th>2</th>\n",
       "      <td>5.303300e+10</td>\n",
       "      <td>48</td>\n",
       "      <td>48</td>\n",
       "    </tr>\n",
       "    <tr>\n",
       "      <th>3</th>\n",
       "      <td>5.303300e+10</td>\n",
       "      <td>708</td>\n",
       "      <td>711</td>\n",
       "    </tr>\n",
       "    <tr>\n",
       "      <th>4</th>\n",
       "      <td>5.303300e+10</td>\n",
       "      <td>119</td>\n",
       "      <td>117</td>\n",
       "    </tr>\n",
       "    <tr>\n",
       "      <th>...</th>\n",
       "      <td>...</td>\n",
       "      <td>...</td>\n",
       "      <td>...</td>\n",
       "    </tr>\n",
       "    <tr>\n",
       "      <th>769</th>\n",
       "      <td>5.306105e+10</td>\n",
       "      <td>10</td>\n",
       "      <td>10</td>\n",
       "    </tr>\n",
       "    <tr>\n",
       "      <th>770</th>\n",
       "      <td>5.306105e+10</td>\n",
       "      <td>8</td>\n",
       "      <td>9</td>\n",
       "    </tr>\n",
       "    <tr>\n",
       "      <th>771</th>\n",
       "      <td>5.306194e+10</td>\n",
       "      <td>92</td>\n",
       "      <td>91</td>\n",
       "    </tr>\n",
       "    <tr>\n",
       "      <th>772</th>\n",
       "      <td>5.306194e+10</td>\n",
       "      <td>1</td>\n",
       "      <td>1</td>\n",
       "    </tr>\n",
       "    <tr>\n",
       "      <th>773</th>\n",
       "      <td>5.306199e+10</td>\n",
       "      <td>2</td>\n",
       "      <td>2</td>\n",
       "    </tr>\n",
       "  </tbody>\n",
       "</table>\n",
       "<p>774 rows × 3 columns</p>\n",
       "</div>"
      ],
      "text/plain": [
       "          tractid  o_count  d_count\n",
       "0    5.303300e+10      359      362\n",
       "1    5.303300e+10      166      164\n",
       "2    5.303300e+10       48       48\n",
       "3    5.303300e+10      708      711\n",
       "4    5.303300e+10      119      117\n",
       "..            ...      ...      ...\n",
       "769  5.306105e+10       10       10\n",
       "770  5.306105e+10        8        9\n",
       "771  5.306194e+10       92       91\n",
       "772  5.306194e+10        1        1\n",
       "773  5.306199e+10        2        2\n",
       "\n",
       "[774 rows x 3 columns]"
      ]
     },
     "execution_count": 40,
     "metadata": {},
     "output_type": "execute_result"
    }
   ],
   "source": [
    "od_counts"
   ]
  }
 ],
 "metadata": {
  "kernelspec": {
   "display_name": "Python 3 (ipykernel)",
   "language": "python",
   "name": "python3"
  },
  "language_info": {
   "codemirror_mode": {
    "name": "ipython",
    "version": 3
   },
   "file_extension": ".py",
   "mimetype": "text/x-python",
   "name": "python",
   "nbconvert_exporter": "python",
   "pygments_lexer": "ipython3",
   "version": "3.12.1"
  }
 },
 "nbformat": 4,
 "nbformat_minor": 5
}
